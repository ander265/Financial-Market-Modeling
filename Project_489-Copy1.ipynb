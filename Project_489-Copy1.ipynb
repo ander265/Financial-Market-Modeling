{
 "cells": [
  {
   "cell_type": "code",
   "execution_count": 9,
   "metadata": {
    "collapsed": true
   },
   "outputs": [],
   "source": [
    "from urllib.request import urlopen\n",
    "from bs4 import BeautifulSoup\n",
    "import csv"
   ]
  },
  {
   "cell_type": "code",
   "execution_count": 85,
   "metadata": {
    "scrolled": true
   },
   "outputs": [
    {
     "name": "stdout",
     "output_type": "stream",
     "text": [
      "<class 'bs4.element.ResultSet'>\n",
      "<class 'list'>\n",
      "<class 'bs4.element.ResultSet'>\n"
     ]
    }
   ],
   "source": [
    "html_1 = urlopen(\"https://www.basketball-reference.com/leagues/NBA_2014_totals.html\")\n",
    "#html = urlopen(\"http://www.stat.tamu.edu/~adabney/toy_webpage.html\")\n",
    "#print(html_1.read())\n",
    "# BeautifulSoup makes it easy to extract desired information.\n",
    "bsObj_1 = BeautifulSoup(html_1, \"lxml\")\n",
    "#print(bsObj_1.prettify)#useful to see!\n",
    "#table = bsObj_1.findAll(\"\", {\"class\":\"table_outer_container\"}) \n",
    "table = bsObj_1.findAll(\"tbody\") \n",
    "list=[]\n",
    "for i in table:\n",
    "    list.extend(i.findAll(\"tr\"))\n",
    "    x=i.findAll(\"tr\")\n",
    "#print(table.prettify)\n",
    "print(type(table))\n",
    "print(type(list))\n",
    "print(type(x))\n",
    "csvFile = open(\"C:/Users/sur/Downloads/STAT 489 script/stat489.csv\", 'wt')\n",
    "writer = csv.writer(csvFile)\n",
    "try:\n",
    "    for row in x:\n",
    "        csvRow = []\n",
    "        for cell in row.findAll(['td', 'th']):\n",
    "            csvRow.append(cell.get_text())\n",
    "        writer.writerow(csvRow)\n",
    "finally:\n",
    "    csvFile.close()"
   ]
  },
  {
   "cell_type": "code",
   "execution_count": 76,
   "metadata": {},
   "outputs": [
    {
     "name": "stdout",
     "output_type": "stream",
     "text": [
      "<class 'bs4.element.Tag'>\n",
      "<class 'bs4.element.ResultSet'>\n"
     ]
    }
   ],
   "source": [
    "html = urlopen(\"http://en.wikipedia.org/wiki/Comparison_of_text_editors\")\n",
    "bsObj = BeautifulSoup(html,\"lxml\")\n",
    "#The main comparison table is currently the first table on the page\n",
    "table = bsObj.findAll(\"table\",{\"class\":\"wikitable\"})[0]\n",
    "print(type(table))\n",
    "#print(table.prettify)\n",
    "rows = table.findAll(\"tr\")\n",
    "print(type(rows))\n",
    "#csvFile = open(\"C:/Users/sur/Downloads/STAT 489 script/Test.csv\", 'wt')\n",
    "#writer = csv.writer(csvFile)\n",
    "#try:\n",
    "#    for row in rows:\n",
    "#        csvRow = []\n",
    "#        for cell in row.findAll(['td', 'th']):\n",
    "#            csvRow.append(cell.get_text())\n",
    "#        writer.writerow(csvRow)\n",
    "#finally:\n",
    "#    csvFile.close()"
   ]
  },
  {
   "cell_type": "code",
   "execution_count": null,
   "metadata": {
    "collapsed": true
   },
   "outputs": [],
   "source": []
  }
 ],
 "metadata": {
  "kernelspec": {
   "display_name": "Python 3",
   "language": "python",
   "name": "python3"
  },
  "language_info": {
   "codemirror_mode": {
    "name": "ipython",
    "version": 3
   },
   "file_extension": ".py",
   "mimetype": "text/x-python",
   "name": "python",
   "nbconvert_exporter": "python",
   "pygments_lexer": "ipython3",
   "version": "3.6.3"
  }
 },
 "nbformat": 4,
 "nbformat_minor": 2
}
