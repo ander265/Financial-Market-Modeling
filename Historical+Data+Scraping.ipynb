{
 "cells": [
  {
   "cell_type": "code",
   "execution_count": null,
   "metadata": {},
   "outputs": [],
   "source": []
  },
  {
   "cell_type": "code",
   "execution_count": null,
   "metadata": {},
   "outputs": [],
   "source": []
  },
  {
   "cell_type": "code",
   "execution_count": null,
   "metadata": {},
   "outputs": [],
   "source": []
  },
  {
   "cell_type": "code",
   "execution_count": null,
   "metadata": {},
   "outputs": [],
   "source": []
  },
  {
   "cell_type": "code",
   "execution_count": 56,
   "metadata": {},
   "outputs": [
    {
     "ename": "SyntaxError",
     "evalue": "invalid syntax (<ipython-input-56-876f20c87390>, line 36)",
     "output_type": "error",
     "traceback": [
      "\u001b[1;36m  File \u001b[1;32m\"<ipython-input-56-876f20c87390>\"\u001b[1;36m, line \u001b[1;32m36\u001b[0m\n\u001b[1;33m    return [for days in day days.split()]\u001b[0m\n\u001b[1;37m              ^\u001b[0m\n\u001b[1;31mSyntaxError\u001b[0m\u001b[1;31m:\u001b[0m invalid syntax\n"
     ]
    }
   ],
   "source": [
    "from lxml import html\n",
    "import requests\n",
    "import sys\n",
    "import re\n",
    "\n",
    "class Tester(object):\n",
    "\n",
    "    def __init__(self, name):\n",
    "        self.name = str(name).upper().strip()\n",
    "        \n",
    "        try:\n",
    "            self.page = requests.get(\"http://www.nasdaq.com/symbol/\" + self.name + \"/historical\")\n",
    "            self.tree = html.fromstring(self.page.content)\n",
    "            self.page_text = self.page.text\n",
    "          \n",
    "            '''\n",
    "            timeframe=self.page_text.find('<option value=\"3m\" selected=\"selected\">3 Months</option>')\n",
    "            print(timeframe)\n",
    "            \n",
    "            new1=self.page_text.replace('<option value=\"3m\" selected=\"selected\">3 Months</option>','<option value=\"3m\">3 Months</option>')\n",
    "            new2=new1.replace('<option value=\"10y\">10 Years</option>','<option value=\"10y\" selected=\"selected\">10 Years</option>')\n",
    "            \n",
    "            '''\n",
    "            info_start = self.page_text.find('</thead>')\n",
    "            info_end = self.page_text.find('<!-- end genTable-->')\n",
    "           \n",
    "            self.info = self.page_text[info_start:info_end]   \n",
    "            \n",
    "        except Exception as e:\n",
    "            print(\"ERROR:\\n\" + str(e.args) + \"\\n\\nTerminating execution...\")\n",
    "            sys.exit()\n",
    "\n",
    "    def get_table(self):\n",
    "        \n",
    "        day = self.info.split(\"</tr>\")\n",
    "        \n",
    "    \n",
    "    \n",
    "share=Tester('aapl')\n",
    "share.get_table()"
   ]
  },
  {
   "cell_type": "code",
   "execution_count": null,
   "metadata": {
    "collapsed": true
   },
   "outputs": [],
   "source": []
  }
 ],
 "metadata": {
  "kernelspec": {
   "display_name": "Python 3",
   "language": "python",
   "name": "python3"
  },
  "language_info": {
   "codemirror_mode": {
    "name": "ipython",
    "version": 3
   },
   "file_extension": ".py",
   "mimetype": "text/x-python",
   "name": "python",
   "nbconvert_exporter": "python",
   "pygments_lexer": "ipython3",
   "version": "3.6.3"
  }
 },
 "nbformat": 4,
 "nbformat_minor": 2
}
